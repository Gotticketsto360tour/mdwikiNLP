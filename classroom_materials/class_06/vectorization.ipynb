{
 "metadata": {
  "language_info": {
   "codemirror_mode": {
    "name": "ipython",
    "version": 3
   },
   "file_extension": ".py",
   "mimetype": "text/x-python",
   "name": "python",
   "nbconvert_exporter": "python",
   "pygments_lexer": "ipython3",
   "version": "3.7.9-final"
  },
  "orig_nbformat": 2,
  "kernelspec": {
   "name": "Python 3.7.9 64-bit ('nlp': conda)",
   "display_name": "Python 3.7.9 64-bit ('nlp': conda)",
   "metadata": {
    "interpreter": {
     "hash": "84f904982bb2a312f20c09ac8c3eb2514ed8258c7920b197b0ef10c1c6f00b87"
    }
   }
  }
 },
 "nbformat": 4,
 "nbformat_minor": 2,
 "cells": [
  {
   "source": [
    "# Vectorization\n",
    "Let's start of with a where we left of last time. Simple classification using a bag-of-words. Today we will only be using the multinomial naive bayes to keep the focus on the vectorization.\n",
    "\n",
    "** Task go through the script in studygroups read through the script, make sure you understanding the working as you go through it.**\n",
    "\n",
    "if you find any if this uninterpretable and or difficult, remember that I will be in the class or on zoom if you need help."
   ],
   "cell_type": "markdown",
   "metadata": {}
  },
  {
   "cell_type": "code",
   "execution_count": 33,
   "metadata": {},
   "outputs": [
    {
     "output_type": "stream",
     "name": "stdout",
     "text": [
      "..\\class_05\\imdb\n"
     ]
    }
   ],
   "source": [
    "# add classification script to path (as well as data)\n",
    "import sys\n",
    "import os\n",
    "path = os.path.join(\"..\", \"class_05\")  # create path - will be different depending on mac vs windows\n",
    "\n",
    "sys.path.append(path)  # add path\n",
    "\n",
    "# create path for imdb dataset\n",
    "imdbpath = os.path.join(\"..\", \"class_05\", \"imdb\")\n",
    "print(imdbpath)"
   ]
  },
  {
   "cell_type": "code",
   "execution_count": 34,
   "metadata": {
    "tags": []
   },
   "outputs": [
    {
     "output_type": "stream",
     "name": "stdout",
     "text": [
      "Our model obtained a performance accuracy of 0.814\n"
     ]
    }
   ],
   "source": [
    "from classification import read_imdb\n",
    "\n",
    "from sklearn.pipeline import Pipeline\n",
    "from sklearn.model_selection import train_test_split\n",
    "from sklearn.feature_extraction.text import CountVectorizer\n",
    "from sklearn.naive_bayes import MultinomialNB\n",
    "\n",
    "# read data\n",
    "imdb = read_imdb(imdbpath)\n",
    "\n",
    "# train test split\n",
    "X_train, X_test, y_train, y_test = train_test_split(imdb.text, imdb.tag)\n",
    "text_clf = Pipeline([('vect', CountVectorizer()), \n",
    "                     ('clf', MultinomialNB())])\n",
    "\n",
    "# train model\n",
    "text_clf.fit(X_train, y_train)\n",
    "\n",
    "# estimate performance\n",
    "predictions = text_clf.predict(X_test)\n",
    "\n",
    "acc = sum(predictions == y_test)/len(y_test)\n",
    "print(f\"Our model obtained a performance accuracy of {acc}\")\n"
   ]
  },
  {
   "source": [
    "---\n",
    "Now let is try to add our own tokenizer:"
   ],
   "cell_type": "markdown",
   "metadata": {}
  },
  {
   "cell_type": "code",
   "execution_count": 35,
   "metadata": {},
   "outputs": [
    {
     "output_type": "stream",
     "name": "stderr",
     "text": [
      "[nltk_data] Downloading package punkt to\n[nltk_data]     C:\\Users\\Mikkel\\AppData\\Roaming\\nltk_data...\n[nltk_data]   Package punkt is already up-to-date!\n[nltk_data] Downloading package wordnet to\n[nltk_data]     C:\\Users\\Mikkel\\AppData\\Roaming\\nltk_data...\n[nltk_data]   Package wordnet is already up-to-date!\n"
     ]
    },
    {
     "output_type": "execute_result",
     "data": {
      "text/plain": [
       "True"
      ]
     },
     "metadata": {},
     "execution_count": 35
    }
   ],
   "source": [
    "import nltk\n",
    "nltk.download('punkt')\n",
    "nltk.download('wordnet')"
   ]
  },
  {
   "cell_type": "code",
   "execution_count": 36,
   "metadata": {},
   "outputs": [
    {
     "output_type": "execute_result",
     "data": {
      "text/plain": [
       "matrix([[1, 0, 0, 1, 1, 0, 0, 0, 2],\n",
       "        [1, 0, 1, 1, 0, 0, 0, 1, 0],\n",
       "        [0, 2, 0, 1, 1, 1, 1, 0, 0],\n",
       "        [1, 1, 0, 1, 1, 1, 0, 0, 1]], dtype=int64)"
      ]
     },
     "metadata": {},
     "execution_count": 36
    }
   ],
   "source": [
    "# a simple test set:\n",
    "doc = [\"NLP is very very fun\", \n",
    "       \"NLP teachers are fun\",\n",
    "       \"a teacher is a fun person\",\n",
    "       \"NLP is a very fun person\"]\n",
    "\n",
    "from text_preprocessor import Text\n",
    "\n",
    "# define a wrapper function which only returns tokens and handles list\n",
    "def tokenization_wrapper(txt):\n",
    "    TextObject = Text(txt)\n",
    "    TextObject.tokenize(method=\"nltk\", lemmatize = False)\n",
    "    tokens = TextObject.get_tokens()\n",
    "    return tokens\n",
    "\n",
    "\n",
    "vectorizer = CountVectorizer(tokenizer=tokenization_wrapper, lowercase=False)\n",
    "bow = vectorizer.fit_transform(doc)\n",
    "bow.todense()\n",
    "# TASK: Change the above code use your lemmatization function instead of pure tokenization. What would you expect would change?"
   ]
  },
  {
   "source": [
    "---\n",
    "You can make this matrix more visually appealing (and understandable) quite well using this trick:"
   ],
   "cell_type": "markdown",
   "metadata": {}
  },
  {
   "cell_type": "code",
   "execution_count": 37,
   "metadata": {},
   "outputs": [
    {
     "output_type": "execute_result",
     "data": {
      "text/plain": [
       "   NLP  a  are  fun  is  person  teacher  teachers  very\n",
       "0    1  0    0    1   1       0        0         0     2\n",
       "1    1  0    1    1   0       0        0         1     0\n",
       "2    0  2    0    1   1       1        1         0     0\n",
       "3    1  1    0    1   1       1        0         0     1"
      ],
      "text/html": "<div>\n<style scoped>\n    .dataframe tbody tr th:only-of-type {\n        vertical-align: middle;\n    }\n\n    .dataframe tbody tr th {\n        vertical-align: top;\n    }\n\n    .dataframe thead th {\n        text-align: right;\n    }\n</style>\n<table border=\"1\" class=\"dataframe\">\n  <thead>\n    <tr style=\"text-align: right;\">\n      <th></th>\n      <th>NLP</th>\n      <th>a</th>\n      <th>are</th>\n      <th>fun</th>\n      <th>is</th>\n      <th>person</th>\n      <th>teacher</th>\n      <th>teachers</th>\n      <th>very</th>\n    </tr>\n  </thead>\n  <tbody>\n    <tr>\n      <th>0</th>\n      <td>1</td>\n      <td>0</td>\n      <td>0</td>\n      <td>1</td>\n      <td>1</td>\n      <td>0</td>\n      <td>0</td>\n      <td>0</td>\n      <td>2</td>\n    </tr>\n    <tr>\n      <th>1</th>\n      <td>1</td>\n      <td>0</td>\n      <td>1</td>\n      <td>1</td>\n      <td>0</td>\n      <td>0</td>\n      <td>0</td>\n      <td>1</td>\n      <td>0</td>\n    </tr>\n    <tr>\n      <th>2</th>\n      <td>0</td>\n      <td>2</td>\n      <td>0</td>\n      <td>1</td>\n      <td>1</td>\n      <td>1</td>\n      <td>1</td>\n      <td>0</td>\n      <td>0</td>\n    </tr>\n    <tr>\n      <th>3</th>\n      <td>1</td>\n      <td>1</td>\n      <td>0</td>\n      <td>1</td>\n      <td>1</td>\n      <td>1</td>\n      <td>0</td>\n      <td>0</td>\n      <td>1</td>\n    </tr>\n  </tbody>\n</table>\n</div>"
     },
     "metadata": {},
     "execution_count": 37
    }
   ],
   "source": [
    "import pandas as pd\n",
    "pd.DataFrame(bow.todense(), columns=vectorizer.get_feature_names())\n",
    "# Notice that teacher and teachers are two different tokens is this problematic?\n",
    "# TASK: the visualization code is a bit unclear to understand. Make a function on the form:\n",
    "# vizualize(bow, vectorizer)\n",
    "# which produces the table below"
   ]
  },
  {
   "source": [
    "---\n",
    "We now want to look a bit more into what goes on in the vectorization"
   ],
   "cell_type": "markdown",
   "metadata": {}
  },
  {
   "cell_type": "code",
   "execution_count": 38,
   "metadata": {},
   "outputs": [
    {
     "output_type": "execute_result",
     "data": {
      "text/plain": [
       "matrix([[0, 0, 1, 0, 1, 0, 1, 1, 1, 0, 0, 0, 0, 0, 0, 2, 1, 1],\n",
       "        [1, 1, 1, 0, 0, 0, 0, 1, 0, 1, 0, 0, 0, 1, 1, 0, 0, 0],\n",
       "        [0, 0, 1, 1, 1, 1, 0, 0, 0, 0, 1, 1, 1, 0, 0, 0, 0, 0],\n",
       "        [0, 0, 1, 1, 1, 0, 1, 1, 1, 0, 1, 0, 0, 0, 0, 1, 1, 0]],\n",
       "       dtype=int64)"
      ]
     },
     "metadata": {},
     "execution_count": 38
    }
   ],
   "source": [
    "# using 1-grams and bigrams:\n",
    "vectorizer = CountVectorizer(ngram_range=(1, 2)) #(2,3) instead\n",
    "\n",
    "bow = vectorizer.fit_transform(doc)\n",
    "bow.todense()\n",
    "# TASK change it to only use 2-grams and 3-grams"
   ]
  },
  {
   "cell_type": "code",
   "execution_count": 39,
   "metadata": {},
   "outputs": [
    {
     "output_type": "execute_result",
     "data": {
      "text/plain": [
       "   fun  nlp  person  teacher  teachers\n",
       "0    1    1       0        0         0\n",
       "1    1    1       0        0         1\n",
       "2    1    0       1        1         0\n",
       "3    1    1       1        0         0"
      ],
      "text/html": "<div>\n<style scoped>\n    .dataframe tbody tr th:only-of-type {\n        vertical-align: middle;\n    }\n\n    .dataframe tbody tr th {\n        vertical-align: top;\n    }\n\n    .dataframe thead th {\n        text-align: right;\n    }\n</style>\n<table border=\"1\" class=\"dataframe\">\n  <thead>\n    <tr style=\"text-align: right;\">\n      <th></th>\n      <th>fun</th>\n      <th>nlp</th>\n      <th>person</th>\n      <th>teacher</th>\n      <th>teachers</th>\n    </tr>\n  </thead>\n  <tbody>\n    <tr>\n      <th>0</th>\n      <td>1</td>\n      <td>1</td>\n      <td>0</td>\n      <td>0</td>\n      <td>0</td>\n    </tr>\n    <tr>\n      <th>1</th>\n      <td>1</td>\n      <td>1</td>\n      <td>0</td>\n      <td>0</td>\n      <td>1</td>\n    </tr>\n    <tr>\n      <th>2</th>\n      <td>1</td>\n      <td>0</td>\n      <td>1</td>\n      <td>1</td>\n      <td>0</td>\n    </tr>\n    <tr>\n      <th>3</th>\n      <td>1</td>\n      <td>1</td>\n      <td>1</td>\n      <td>0</td>\n      <td>0</td>\n    </tr>\n  </tbody>\n</table>\n</div>"
     },
     "metadata": {},
     "execution_count": 39
    }
   ],
   "source": [
    "# to use stopwords\n",
    "from nltk.corpus import stopwords\n",
    "stopwordlist = stopwords.words('english')\n",
    "\n",
    "vectorizer = CountVectorizer(stop_words=stopwordlist)\n",
    "bow = vectorizer.fit_transform(doc)\n",
    "\n",
    "pd.DataFrame(bow.todense(), columns=vectorizer.get_feature_names())\n",
    "\n",
    "# TASK what words were removed using the stopwordlist, might these be meaningful?\n",
    "\n",
    "# \"very\" could be used as a strength marker"
   ]
  },
  {
   "cell_type": "code",
   "execution_count": 40,
   "metadata": {},
   "outputs": [
    {
     "output_type": "execute_result",
     "data": {
      "text/plain": [
       "matrix([[0, 1, 1, 0, 0, 0, 2],\n",
       "        [1, 0, 1, 0, 0, 1, 0],\n",
       "        [0, 1, 0, 1, 1, 0, 0],\n",
       "        [0, 1, 1, 1, 0, 0, 1]], dtype=int64)"
      ]
     },
     "metadata": {},
     "execution_count": 40
    }
   ],
   "source": [
    "# another way to remove stopwords\n",
    "vectorizer = CountVectorizer(max_df=0.9) # remove words which appear in 90% of the documents\n",
    "bow = vectorizer.fit_transform(doc)\n",
    "bow.todense()"
   ]
  },
  {
   "cell_type": "code",
   "execution_count": 41,
   "metadata": {},
   "outputs": [
    {
     "output_type": "execute_result",
     "data": {
      "text/plain": [
       "matrix([[0, 1, 1, 1, 0, 0, 0, 1],\n",
       "        [1, 1, 0, 1, 0, 0, 1, 0],\n",
       "        [0, 1, 1, 0, 1, 1, 0, 0],\n",
       "        [0, 1, 1, 1, 1, 0, 0, 1]], dtype=int64)"
      ]
     },
     "metadata": {},
     "execution_count": 41
    }
   ],
   "source": [
    "# To make a binary classification (is the word there or not)\n",
    "vectorizer = CountVectorizer(binary=True)\n",
    "bow = vectorizer.fit_transform(doc)\n",
    "bow.todense()\n"
   ]
  },
  {
   "cell_type": "code",
   "execution_count": 42,
   "metadata": {},
   "outputs": [
    {
     "output_type": "execute_result",
     "data": {
      "text/plain": [
       "matrix([[1, 1, 1, 0, 2],\n",
       "        [1, 0, 1, 0, 0],\n",
       "        [1, 1, 0, 1, 0],\n",
       "        [1, 1, 1, 1, 1]], dtype=int64)"
      ]
     },
     "metadata": {},
     "execution_count": 42
    }
   ],
   "source": [
    "# remove words which appear less than min_df (i.e. words which appear only once)\n",
    "vectorizer = CountVectorizer(min_df=2)\n",
    "bow = vectorizer.fit_transform(doc)\n",
    "bow.todense()\n",
    "\n",
    "# min_df can also be a number from 0-1. If so it is a percentage"
   ]
  },
  {
   "source": [
    "---\n",
    "# Tf-Idf\n",
    "\n",
    "tf-idf for a specific term (word) $t$ in a given document $d$, as you probably know from the lectures, is calculated using the\n",
    "\n",
    "$tf-idf(t, d) = tf(t, d) * idf(t)$\n",
    "\n",
    "Where $tf$ is the frequency of term $t$ in the document $d$.and $idf$ is the inverse document frequency of the term $t$. In sklearn $idf$ is calculated as follows:\n",
    "\n",
    "$idf(t) = log \\frac{1 + n}{1 + df(t)} + 1$\n",
    "\n",
    "it is then normalized using the l2 norm (the euclidian norm for all math people out there). It simply makes sure it the length of vector for the document is one. It is calculated as follows:\n",
    "\n",
    "$\\frac{1}{\\sqrt{v_1^2 + v^2 + ...}}$\n",
    "\n",
    "As an example the norm of v would be:\n",
    "\n",
    "$\n",
    "  \\begin{align}\n",
    "    ||v|| &= ||\\begin{bmatrix}\n",
    "           1 \\\\\n",
    "           1 \\\\\n",
    "           0 \\\\\n",
    "         \\end{bmatrix}|| = \\frac{1}{\\sqrt{1 + 1 + 0}} = \\frac{1}{\\sqrt{2}} \n",
    "  \\end{align}\n",
    "  $\n",
    "\n",
    "\n",
    "The tf idf in sklearn uses the default parameters:\n",
    "```python\n",
    "norm='l2', use_idf=True, smooth_idf=True, sublinear_tf=False\n",
    "```\n",
    "\n",
    "where `norm` toggles what type of normalization it should use. `use_idf` toggles whether is should multiple tf with idf not not.\n",
    "`smooth_idf` the is the `+1` fraction. i.e. setting it to false would do the following: \n",
    "\n",
    "$idf(t) = log \\frac{n}{df(t)} + 1$\n",
    "\n",
    "This is the same as the add one smoothing the naive bayes assignment.\n",
    "\n",
    "Interestingly tf-idf can also be derived using information theory as **the amount of information gained seeing the word weighted by your probability of seeing it**. It is thus reasonable that it is good for performance, not only that, but it also fits nicely into cognitive theories such as bayesian brain and the free energy principles.\n",
    "\n",
    "Read a lot more on tf-idf in sklearn [here](https://scikit-learn.org/stable/modules/feature_extraction.html#text-feature-extraction).\n",
    "\n",
    "There is two ways to call do tf-idf in scikit-learn. Either using the `TfidfVectorizer` or transforming the `CountVectorizer` using `TfidfTransformer`. I will just be using the first one for simplicity. You can pass `TfidfVectorizer` all the same arguments as we have used for the `CountVectorizer`.\n"
   ],
   "cell_type": "markdown",
   "metadata": {}
  },
  {
   "cell_type": "code",
   "execution_count": 43,
   "metadata": {},
   "outputs": [
    {
     "output_type": "execute_result",
     "data": {
      "text/plain": [
       "        are       fun        is       nlp    person   teacher  teachers  \\\n",
       "0  0.000000  0.276052  0.337651  0.337651  0.000000  0.000000  0.000000   \n",
       "1  0.610878  0.318782  0.000000  0.389916  0.000000  0.000000  0.610878   \n",
       "2  0.000000  0.343993  0.420753  0.000000  0.519714  0.659191  0.000000   \n",
       "3  0.000000  0.341846  0.418127  0.418127  0.516470  0.000000  0.000000   \n",
       "\n",
       "       very  \n",
       "0  0.834133  \n",
       "1  0.000000  \n",
       "2  0.000000  \n",
       "3  0.516470  "
      ],
      "text/html": "<div>\n<style scoped>\n    .dataframe tbody tr th:only-of-type {\n        vertical-align: middle;\n    }\n\n    .dataframe tbody tr th {\n        vertical-align: top;\n    }\n\n    .dataframe thead th {\n        text-align: right;\n    }\n</style>\n<table border=\"1\" class=\"dataframe\">\n  <thead>\n    <tr style=\"text-align: right;\">\n      <th></th>\n      <th>are</th>\n      <th>fun</th>\n      <th>is</th>\n      <th>nlp</th>\n      <th>person</th>\n      <th>teacher</th>\n      <th>teachers</th>\n      <th>very</th>\n    </tr>\n  </thead>\n  <tbody>\n    <tr>\n      <th>0</th>\n      <td>0.000000</td>\n      <td>0.276052</td>\n      <td>0.337651</td>\n      <td>0.337651</td>\n      <td>0.000000</td>\n      <td>0.000000</td>\n      <td>0.000000</td>\n      <td>0.834133</td>\n    </tr>\n    <tr>\n      <th>1</th>\n      <td>0.610878</td>\n      <td>0.318782</td>\n      <td>0.000000</td>\n      <td>0.389916</td>\n      <td>0.000000</td>\n      <td>0.000000</td>\n      <td>0.610878</td>\n      <td>0.000000</td>\n    </tr>\n    <tr>\n      <th>2</th>\n      <td>0.000000</td>\n      <td>0.343993</td>\n      <td>0.420753</td>\n      <td>0.000000</td>\n      <td>0.519714</td>\n      <td>0.659191</td>\n      <td>0.000000</td>\n      <td>0.000000</td>\n    </tr>\n    <tr>\n      <th>3</th>\n      <td>0.000000</td>\n      <td>0.341846</td>\n      <td>0.418127</td>\n      <td>0.418127</td>\n      <td>0.516470</td>\n      <td>0.000000</td>\n      <td>0.000000</td>\n      <td>0.516470</td>\n    </tr>\n  </tbody>\n</table>\n</div>"
     },
     "metadata": {},
     "execution_count": 43
    }
   ],
   "source": [
    "from sklearn.feature_extraction.text import TfidfVectorizer\n",
    "tfidf = TfidfVectorizer()\n",
    "ti = tfidf.fit_transform(doc)\n",
    "ti.todense()\n",
    "pd.DataFrame(ti.todense(), columns=tfidf.get_feature_names())"
   ]
  },
  {
   "cell_type": "code",
   "execution_count": 44,
   "metadata": {},
   "outputs": [
    {
     "output_type": "execute_result",
     "data": {
      "text/plain": [
       "        NLP   NLP fun  NLP teachers  fun person    person   teacher  \\\n",
       "0  0.629228  0.777221      0.000000    0.000000  0.000000  0.000000   \n",
       "1  0.345783  0.000000      0.541736    0.000000  0.000000  0.000000   \n",
       "2  0.000000  0.000000      0.000000    0.437791  0.437791  0.555283   \n",
       "3  0.423442  0.523035      0.000000    0.523035  0.523035  0.000000   \n",
       "\n",
       "   teacher fun  teachers  teachers fun  \n",
       "0     0.000000  0.000000      0.000000  \n",
       "1     0.000000  0.541736      0.541736  \n",
       "2     0.555283  0.000000      0.000000  \n",
       "3     0.000000  0.000000      0.000000  "
      ],
      "text/html": "<div>\n<style scoped>\n    .dataframe tbody tr th:only-of-type {\n        vertical-align: middle;\n    }\n\n    .dataframe tbody tr th {\n        vertical-align: top;\n    }\n\n    .dataframe thead th {\n        text-align: right;\n    }\n</style>\n<table border=\"1\" class=\"dataframe\">\n  <thead>\n    <tr style=\"text-align: right;\">\n      <th></th>\n      <th>NLP</th>\n      <th>NLP fun</th>\n      <th>NLP teachers</th>\n      <th>fun person</th>\n      <th>person</th>\n      <th>teacher</th>\n      <th>teacher fun</th>\n      <th>teachers</th>\n      <th>teachers fun</th>\n    </tr>\n  </thead>\n  <tbody>\n    <tr>\n      <th>0</th>\n      <td>0.629228</td>\n      <td>0.777221</td>\n      <td>0.000000</td>\n      <td>0.000000</td>\n      <td>0.000000</td>\n      <td>0.000000</td>\n      <td>0.000000</td>\n      <td>0.000000</td>\n      <td>0.000000</td>\n    </tr>\n    <tr>\n      <th>1</th>\n      <td>0.345783</td>\n      <td>0.000000</td>\n      <td>0.541736</td>\n      <td>0.000000</td>\n      <td>0.000000</td>\n      <td>0.000000</td>\n      <td>0.000000</td>\n      <td>0.541736</td>\n      <td>0.541736</td>\n    </tr>\n    <tr>\n      <th>2</th>\n      <td>0.000000</td>\n      <td>0.000000</td>\n      <td>0.000000</td>\n      <td>0.437791</td>\n      <td>0.437791</td>\n      <td>0.555283</td>\n      <td>0.555283</td>\n      <td>0.000000</td>\n      <td>0.000000</td>\n    </tr>\n    <tr>\n      <th>3</th>\n      <td>0.423442</td>\n      <td>0.523035</td>\n      <td>0.000000</td>\n      <td>0.523035</td>\n      <td>0.523035</td>\n      <td>0.000000</td>\n      <td>0.000000</td>\n      <td>0.000000</td>\n      <td>0.000000</td>\n    </tr>\n  </tbody>\n</table>\n</div>"
     },
     "metadata": {},
     "execution_count": 44
    }
   ],
   "source": [
    "# we can add all the previous stuff as well\n",
    "tfidf = TfidfVectorizer(tokenizer=tokenization_wrapper,\n",
    "                        stop_words=stopwordlist,\n",
    "                        min_df=1,\n",
    "                        max_df=0.8,\n",
    "                        ngram_range=(1,2),\n",
    "                        lowercase=False,\n",
    "                        binary=False\n",
    "                        )\n",
    "ti = tfidf.fit_transform(doc)\n",
    "ti.todense()\n",
    "pd.DataFrame(ti.todense(), columns=tfidf.get_feature_names())"
   ]
  },
  {
   "source": [
    "# Dimensionality reduction\n",
    "As the matrix for language classification typically becomes quite large an idea is to reduce the dimensionality of the matrix. Typically used techniques reducing dimensionality in data include Principal component analysis (PCA) or singular value decompositions (SVD). Note that PCA was introduced 2nd semester Experimental Methods so people should be familiar (alternatively there is also a video in the highly recommended readings for class). PCA is also used in computing the intelligence metric, g-factor. PCA is calculated using SVD which, for the mathematically inclined, is the generalization of eigendecompositions (finding eigenvalues and eigenvectors) to non-diagnizable matrices. \n",
    "\n",
    "Other approaches include latent semantic analysis (LSA) which similar to PCA is build upon SVD. LSA was later reinterpreted in a probalistic framework (pLSA) which was generalized into Latent Dirichlet Allocation (LDA) which is what is the topic model we will go into in week 44. LSA is also more efficient for tf-idf and tf matrices.\n",
    "\n"
   ],
   "cell_type": "markdown",
   "metadata": {}
  },
  {
   "cell_type": "code",
   "execution_count": 46,
   "metadata": {},
   "outputs": [
    {
     "output_type": "stream",
     "name": "stdout",
     "text": [
      "the explained variance in the dataset of each of the three components:\n[0.361 0.317 0.13  0.   ]\n"
     ]
    }
   ],
   "source": [
    "from sklearn.decomposition import PCA\n",
    "\n",
    "tfidf = TfidfVectorizer(ngram_range=(1,3))\n",
    "ti = tfidf.fit_transform(doc)\n",
    "pca = PCA(n_components=3) # should be bigger for real data\n",
    "output = pca.fit_transform(ti.todense())  # it is required to make the tf-idf matrix (ti) to dense to do PCA, but this is computionally heavy (thus the LSA)\n",
    "\n",
    "print(\"the explained variance in the dataset of each of the three components:\")\n",
    "print(pca.explained_variance_.round(3)) "
   ]
  },
  {
   "cell_type": "code",
   "execution_count": 47,
   "metadata": {},
   "outputs": [
    {
     "output_type": "stream",
     "name": "stdout",
     "text": [
      "the explained variance in the dataset of each of the three components:\n[0.07 0.22 0.22 0.1 ]\n0.60633589712259\n\nthe reduced matrix:\n[[ 0.81804119 -0.0492465  -0.40425051 -0.40615873]\n [ 0.23147691  0.96072669  0.15301126 -0.0031986 ]\n [ 0.44846932 -0.20639604  0.85867458 -0.13767322]\n [ 0.88287133 -0.10141692 -0.10172966  0.44710613]]\n\nthe previous matrix:\n[[0.         0.         0.17337136 0.         0.21205806 0.\n  0.         0.2619339  0.         0.33222994 0.21205806 0.2619339\n  0.2619339  0.         0.         0.         0.         0.\n  0.         0.         0.         0.         0.5238678  0.2619339\n  0.         0.33222994 0.33222994]\n [0.36085029 0.36085029 0.18830665 0.         0.         0.\n  0.         0.         0.         0.         0.23032606 0.\n  0.         0.36085029 0.36085029 0.         0.         0.\n  0.         0.36085029 0.36085029 0.36085029 0.         0.\n  0.         0.         0.        ]\n [0.         0.         0.19833261 0.29964599 0.24258925 0.38006294\n  0.38006294 0.         0.         0.         0.         0.\n  0.         0.         0.         0.29964599 0.38006294 0.38006294\n  0.38006294 0.         0.         0.         0.         0.\n  0.         0.         0.        ]\n [0.         0.         0.19133839 0.28907894 0.23403431 0.\n  0.         0.28907894 0.36665998 0.         0.23403431 0.28907894\n  0.28907894 0.         0.         0.28907894 0.         0.\n  0.         0.         0.         0.         0.28907894 0.28907894\n  0.36665998 0.         0.        ]]\n"
     ]
    }
   ],
   "source": [
    "from sklearn.decomposition import TruncatedSVD as LSA\n",
    "lsa = LSA(n_components=4) # should be bigger for real data\n",
    "output = lsa.fit_transform(ti)  # notice the lack of todense\n",
    "\n",
    "print(\"the explained variance in the dataset of each of the three components:\")\n",
    "print(lsa.explained_variance_.round(2)) \n",
    "print(sum(lsa.explained_variance_)) \n",
    "\n",
    "print(\"\\nthe reduced matrix:\")\n",
    "print(output)\n",
    "\n",
    "print(\"\\nthe previous matrix:\")\n",
    "print(ti.todense())\n",
    "# notice how many of the entries in the tf-idf (similar to the bow matrices) contain a lot of zeros, which indicate that the information can typically be reduced dramatically.\n"
   ]
  },
  {
   "source": [
    "---\n",
    "# Tasks\n",
    "1) putting it all together. Create a pipeline which does the both the vectorization, dimensionality reduction and the classification using the imdb dataset. Set the original test set aside as a validation set and make a new train test split.\n",
    "here the train is for training on. Test is for testing performance and the validation set is to validate performance (which we will do in 7)\n",
    "\n",
    "2) Change the preprocessing to get a better performance (don't spent to long here, just a little bit of tuning)\n",
    "\n",
    "3) Apply the same model to the 20 newsgroup data (see next block on how to read it in). Again split up the train set into a train and test set. leave the actual test set i.e. validation set for 7 (loaded in by setting `subset=\"test\"`).\n",
    "\n",
    "4) apply the same model to the sms spam data from class 4. (spam.csv). Remember to split it into a validation set and a train set and then again split the train set into a train and a test set.\n",
    "\n",
    "5) When you finetune your model now do you see that you preprocessing choices you made were only good for specific types of dataset  or did they generalize well? Can you find general trends with works better than others? E.g. Is stopwords a good idea? Does tf-idf outperform bag of words? Found out 5 of such 'truths' and post then on element\n",
    "\n",
    "6) Finally finetune yours models. Optimize the vectorization as much as you want to. Use cross validation or grid search on the train/test set. Until you are satisfied. (it does not have to be the same preprocessings steps for all three dataset anymore)\n",
    "\n",
    "7) Finally apply your model to validation sets and report your models performance on element. It should have the form:\n",
    "\n",
    "*\"We obtained a performance of XX% on validation set of (the dataset) using (your model specifications)...\"*"
   ],
   "cell_type": "markdown",
   "metadata": {}
  },
  {
   "cell_type": "code",
   "execution_count": 49,
   "metadata": {},
   "outputs": [
    {
     "output_type": "execute_result",
     "data": {
      "text/plain": [
       "   tag                                               text\n",
       "0  neg  plot : two teen couples go to a church party ,...\n",
       "1  neg  the happy bastard's quick movie review \\ndamn ...\n",
       "2  neg  it is movies like these that make a jaded movi...\n",
       "3  neg   \" quest for camelot \" is warner bros . ' firs...\n",
       "4  neg  synopsis : a mentally unstable man undergoing ..."
      ],
      "text/html": "<div>\n<style scoped>\n    .dataframe tbody tr th:only-of-type {\n        vertical-align: middle;\n    }\n\n    .dataframe tbody tr th {\n        vertical-align: top;\n    }\n\n    .dataframe thead th {\n        text-align: right;\n    }\n</style>\n<table border=\"1\" class=\"dataframe\">\n  <thead>\n    <tr style=\"text-align: right;\">\n      <th></th>\n      <th>tag</th>\n      <th>text</th>\n    </tr>\n  </thead>\n  <tbody>\n    <tr>\n      <th>0</th>\n      <td>neg</td>\n      <td>plot : two teen couples go to a church party ,...</td>\n    </tr>\n    <tr>\n      <th>1</th>\n      <td>neg</td>\n      <td>the happy bastard's quick movie review \\ndamn ...</td>\n    </tr>\n    <tr>\n      <th>2</th>\n      <td>neg</td>\n      <td>it is movies like these that make a jaded movi...</td>\n    </tr>\n    <tr>\n      <th>3</th>\n      <td>neg</td>\n      <td>\" quest for camelot \" is warner bros . ' firs...</td>\n    </tr>\n    <tr>\n      <th>4</th>\n      <td>neg</td>\n      <td>synopsis : a mentally unstable man undergoing ...</td>\n    </tr>\n  </tbody>\n</table>\n</div>"
     },
     "metadata": {},
     "execution_count": 49
    }
   ],
   "source": [
    "# your code here (or in another document)\n",
    "\n",
    "def read_imdb(imdb_path=\"imdb\"):\n",
    "    \"\"\"\n",
    "    TASK 1: Write a short description about what this function does and how it\n",
    "    does it. You should also describe the structure of imdb_files.\n",
    "    \"\"\"\n",
    "    imdb_files = []\n",
    "    for path, subdirs, files in os.walk(imdb_path):\n",
    "        for f in files:\n",
    "            filepath = os.path.join(path, f)\n",
    "\n",
    "            with open(filepath) as f:\n",
    "                text = f.read()\n",
    "\n",
    "            tag = os.path.split(path)[1]\n",
    "            imdb_files.append([tag, text])\n",
    "    return pd.DataFrame(imdb_files, columns=[\"tag\", \"text\"])\n",
    "\n",
    "imdb = read_imdb()"
   ]
  },
  {
   "cell_type": "code",
   "execution_count": 72,
   "metadata": {},
   "outputs": [
    {
     "output_type": "stream",
     "name": "stdout",
     "text": [
      "Our model obtained a performance accuracy of 0.6066666666666667\n"
     ]
    }
   ],
   "source": [
    "from sklearn.preprocessing import MinMaxScaler\n",
    "\n",
    "X_train, X_val, y_train, y_val = train_test_split(imdb.text, imdb.tag, test_size = 0.1)\n",
    "X_train, X_test, y_train, y_test = train_test_split(X_train, y_train)\n",
    "\n",
    "text_clf = Pipeline([('vect', TfidfVectorizer(ngram_range=(1,3))),\n",
    "                    ('dr', LSA(n_components=100)),\n",
    "                    ('minmax', MinMaxScaler()),\n",
    "                     ('clf', MultinomialNB())])\n",
    "\n",
    "# train model\n",
    "text_clf.fit(X_train, y_train)\n",
    "\n",
    "\n",
    "# estimate performance\n",
    "predictions = text_clf.predict(X_test)\n",
    "\n",
    "acc = sum(predictions == y_test)/len(y_test)\n",
    "print(f\"Our model obtained a performance accuracy of {acc}\")"
   ]
  },
  {
   "source": [
    "---\n",
    "## reading in the 20 newsgroup data"
   ],
   "cell_type": "markdown",
   "metadata": {}
  },
  {
   "cell_type": "code",
   "execution_count": 50,
   "metadata": {},
   "outputs": [
    {
     "output_type": "execute_result",
     "data": {
      "text/plain": [
       "                                                text  targets  \\\n",
       "0  From: sd345@city.ac.uk (Michael Collier)\\nSubj...        1   \n",
       "1  From: ani@ms.uky.edu (Aniruddha B. Deglurkar)\\...        1   \n",
       "2  From: djohnson@cs.ucsd.edu (Darin Johnson)\\nSu...        3   \n",
       "3  From: s0612596@let.rug.nl (M.M. Zwart)\\nSubjec...        3   \n",
       "4  From: stanly@grok11.columbiasc.ncr.com (stanly...        3   \n",
       "\n",
       "                 category  \n",
       "0  soc.religion.christian  \n",
       "1  soc.religion.christian  \n",
       "2                 sci.med  \n",
       "3                 sci.med  \n",
       "4                 sci.med  "
      ],
      "text/html": "<div>\n<style scoped>\n    .dataframe tbody tr th:only-of-type {\n        vertical-align: middle;\n    }\n\n    .dataframe tbody tr th {\n        vertical-align: top;\n    }\n\n    .dataframe thead th {\n        text-align: right;\n    }\n</style>\n<table border=\"1\" class=\"dataframe\">\n  <thead>\n    <tr style=\"text-align: right;\">\n      <th></th>\n      <th>text</th>\n      <th>targets</th>\n      <th>category</th>\n    </tr>\n  </thead>\n  <tbody>\n    <tr>\n      <th>0</th>\n      <td>From: sd345@city.ac.uk (Michael Collier)\\nSubj...</td>\n      <td>1</td>\n      <td>soc.religion.christian</td>\n    </tr>\n    <tr>\n      <th>1</th>\n      <td>From: ani@ms.uky.edu (Aniruddha B. Deglurkar)\\...</td>\n      <td>1</td>\n      <td>soc.religion.christian</td>\n    </tr>\n    <tr>\n      <th>2</th>\n      <td>From: djohnson@cs.ucsd.edu (Darin Johnson)\\nSu...</td>\n      <td>3</td>\n      <td>sci.med</td>\n    </tr>\n    <tr>\n      <th>3</th>\n      <td>From: s0612596@let.rug.nl (M.M. Zwart)\\nSubjec...</td>\n      <td>3</td>\n      <td>sci.med</td>\n    </tr>\n    <tr>\n      <th>4</th>\n      <td>From: stanly@grok11.columbiasc.ncr.com (stanly...</td>\n      <td>3</td>\n      <td>sci.med</td>\n    </tr>\n  </tbody>\n</table>\n</div>"
     },
     "metadata": {},
     "execution_count": 50
    }
   ],
   "source": [
    "from sklearn.datasets import fetch_20newsgroups\n",
    "\n",
    "# select which categories to load\n",
    "categories = ['alt.atheism', 'soc.religion.christian', 'comp.graphics', 'sci.med']\n",
    "twenty_train = fetch_20newsgroups(subset='train', # only load the training set\n",
    "                                  categories=categories)\n",
    "\n",
    "# transform the data (not necessary but nice)\n",
    "df = pd.DataFrame({\"text\": twenty_train.data, \"targets\": twenty_train.target})\n",
    "df[\"category\"] = df.targets.apply(lambda x: categories[x])\n",
    "\n",
    "# examine the data (first five rows)\n",
    "df.head()\n",
    "\n",
    "# SUGGESTION: loading dataset like this can be hard to read later on. Wrapping it all into a function e.g. read_20_news make the code easy to read an easy to reuse later."
   ]
  },
  {
   "cell_type": "code",
   "execution_count": null,
   "metadata": {},
   "outputs": [],
   "source": []
  }
 ]
}